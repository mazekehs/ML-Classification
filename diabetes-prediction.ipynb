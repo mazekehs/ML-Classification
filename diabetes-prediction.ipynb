{
 "cells": [
  {
   "cell_type": "markdown",
   "id": "cb1c2b82",
   "metadata": {
    "_cell_guid": "b1076dfc-b9ad-4769-8c92-a6c4dae69d19",
    "_uuid": "8f2839f25d086af736a60e9eeb907d3b93b6e0e5",
    "papermill": {
     "duration": 0.00819,
     "end_time": "2023-12-24T15:44:16.007109",
     "exception": false,
     "start_time": "2023-12-24T15:44:15.998919",
     "status": "completed"
    },
    "tags": []
   },
   "source": [
    "# Importing the dependencies"
   ]
  },
  {
   "cell_type": "code",
   "execution_count": 1,
   "id": "e18a025f",
   "metadata": {
    "execution": {
     "iopub.execute_input": "2023-12-24T15:44:16.024474Z",
     "iopub.status.busy": "2023-12-24T15:44:16.024017Z",
     "iopub.status.idle": "2023-12-24T15:44:17.589680Z",
     "shell.execute_reply": "2023-12-24T15:44:17.588621Z"
    },
    "papermill": {
     "duration": 1.578597,
     "end_time": "2023-12-24T15:44:17.592586",
     "exception": false,
     "start_time": "2023-12-24T15:44:16.013989",
     "status": "completed"
    },
    "tags": []
   },
   "outputs": [],
   "source": [
    "import numpy as np\n",
    "import pandas as pd\n",
    "import warnings\n",
    "from sklearn.preprocessing import StandardScaler\n",
    "from sklearn.model_selection import train_test_split\n",
    "from sklearn import svm\n",
    "from sklearn.metrics import accuracy_score\n",
    "\n",
    "warnings.filterwarnings(\"ignore\")"
   ]
  },
  {
   "cell_type": "markdown",
   "id": "9cda2b9f",
   "metadata": {
    "papermill": {
     "duration": 0.008278,
     "end_time": "2023-12-24T15:44:17.609915",
     "exception": false,
     "start_time": "2023-12-24T15:44:17.601637",
     "status": "completed"
    },
    "tags": []
   },
   "source": [
    "# Data Collection and Analysis"
   ]
  },
  {
   "cell_type": "code",
   "execution_count": 2,
   "id": "812b776c",
   "metadata": {
    "execution": {
     "iopub.execute_input": "2023-12-24T15:44:17.628265Z",
     "iopub.status.busy": "2023-12-24T15:44:17.627028Z",
     "iopub.status.idle": "2023-12-24T15:44:17.769545Z",
     "shell.execute_reply": "2023-12-24T15:44:17.768539Z"
    },
    "papermill": {
     "duration": 0.155035,
     "end_time": "2023-12-24T15:44:17.772518",
     "exception": false,
     "start_time": "2023-12-24T15:44:17.617483",
     "status": "completed"
    },
    "tags": []
   },
   "outputs": [],
   "source": [
    "#loading the dataset to pandas DataFrame\n",
    "diabetes_dataset=pd.read_csv('/kaggle/input/pima-indians-diabetes-database/diabetes.csv')"
   ]
  },
  {
   "cell_type": "code",
   "execution_count": 3,
   "id": "b89ee4f0",
   "metadata": {
    "execution": {
     "iopub.execute_input": "2023-12-24T15:44:17.789094Z",
     "iopub.status.busy": "2023-12-24T15:44:17.788647Z",
     "iopub.status.idle": "2023-12-24T15:44:17.812652Z",
     "shell.execute_reply": "2023-12-24T15:44:17.810937Z"
    },
    "papermill": {
     "duration": 0.03466,
     "end_time": "2023-12-24T15:44:17.814784",
     "exception": false,
     "start_time": "2023-12-24T15:44:17.780124",
     "status": "completed"
    },
    "tags": []
   },
   "outputs": [
    {
     "data": {
      "text/html": [
       "<div>\n",
       "<style scoped>\n",
       "    .dataframe tbody tr th:only-of-type {\n",
       "        vertical-align: middle;\n",
       "    }\n",
       "\n",
       "    .dataframe tbody tr th {\n",
       "        vertical-align: top;\n",
       "    }\n",
       "\n",
       "    .dataframe thead th {\n",
       "        text-align: right;\n",
       "    }\n",
       "</style>\n",
       "<table border=\"1\" class=\"dataframe\">\n",
       "  <thead>\n",
       "    <tr style=\"text-align: right;\">\n",
       "      <th></th>\n",
       "      <th>Pregnancies</th>\n",
       "      <th>Glucose</th>\n",
       "      <th>BloodPressure</th>\n",
       "      <th>SkinThickness</th>\n",
       "      <th>Insulin</th>\n",
       "      <th>BMI</th>\n",
       "      <th>DiabetesPedigreeFunction</th>\n",
       "      <th>Age</th>\n",
       "      <th>Outcome</th>\n",
       "    </tr>\n",
       "  </thead>\n",
       "  <tbody>\n",
       "    <tr>\n",
       "      <th>0</th>\n",
       "      <td>6</td>\n",
       "      <td>148</td>\n",
       "      <td>72</td>\n",
       "      <td>35</td>\n",
       "      <td>0</td>\n",
       "      <td>33.6</td>\n",
       "      <td>0.627</td>\n",
       "      <td>50</td>\n",
       "      <td>1</td>\n",
       "    </tr>\n",
       "    <tr>\n",
       "      <th>1</th>\n",
       "      <td>1</td>\n",
       "      <td>85</td>\n",
       "      <td>66</td>\n",
       "      <td>29</td>\n",
       "      <td>0</td>\n",
       "      <td>26.6</td>\n",
       "      <td>0.351</td>\n",
       "      <td>31</td>\n",
       "      <td>0</td>\n",
       "    </tr>\n",
       "    <tr>\n",
       "      <th>2</th>\n",
       "      <td>8</td>\n",
       "      <td>183</td>\n",
       "      <td>64</td>\n",
       "      <td>0</td>\n",
       "      <td>0</td>\n",
       "      <td>23.3</td>\n",
       "      <td>0.672</td>\n",
       "      <td>32</td>\n",
       "      <td>1</td>\n",
       "    </tr>\n",
       "    <tr>\n",
       "      <th>3</th>\n",
       "      <td>1</td>\n",
       "      <td>89</td>\n",
       "      <td>66</td>\n",
       "      <td>23</td>\n",
       "      <td>94</td>\n",
       "      <td>28.1</td>\n",
       "      <td>0.167</td>\n",
       "      <td>21</td>\n",
       "      <td>0</td>\n",
       "    </tr>\n",
       "    <tr>\n",
       "      <th>4</th>\n",
       "      <td>0</td>\n",
       "      <td>137</td>\n",
       "      <td>40</td>\n",
       "      <td>35</td>\n",
       "      <td>168</td>\n",
       "      <td>43.1</td>\n",
       "      <td>2.288</td>\n",
       "      <td>33</td>\n",
       "      <td>1</td>\n",
       "    </tr>\n",
       "  </tbody>\n",
       "</table>\n",
       "</div>"
      ],
      "text/plain": [
       "   Pregnancies  Glucose  BloodPressure  SkinThickness  Insulin   BMI  \\\n",
       "0            6      148             72             35        0  33.6   \n",
       "1            1       85             66             29        0  26.6   \n",
       "2            8      183             64              0        0  23.3   \n",
       "3            1       89             66             23       94  28.1   \n",
       "4            0      137             40             35      168  43.1   \n",
       "\n",
       "   DiabetesPedigreeFunction  Age  Outcome  \n",
       "0                     0.627   50        1  \n",
       "1                     0.351   31        0  \n",
       "2                     0.672   32        1  \n",
       "3                     0.167   21        0  \n",
       "4                     2.288   33        1  "
      ]
     },
     "execution_count": 3,
     "metadata": {},
     "output_type": "execute_result"
    }
   ],
   "source": [
    "diabetes_dataset.head()"
   ]
  },
  {
   "cell_type": "code",
   "execution_count": 4,
   "id": "0ffd0b3e",
   "metadata": {
    "execution": {
     "iopub.execute_input": "2023-12-24T15:44:17.831630Z",
     "iopub.status.busy": "2023-12-24T15:44:17.831247Z",
     "iopub.status.idle": "2023-12-24T15:44:17.837160Z",
     "shell.execute_reply": "2023-12-24T15:44:17.836274Z"
    },
    "papermill": {
     "duration": 0.016416,
     "end_time": "2023-12-24T15:44:17.838893",
     "exception": false,
     "start_time": "2023-12-24T15:44:17.822477",
     "status": "completed"
    },
    "tags": []
   },
   "outputs": [
    {
     "data": {
      "text/plain": [
       "(768, 9)"
      ]
     },
     "execution_count": 4,
     "metadata": {},
     "output_type": "execute_result"
    }
   ],
   "source": [
    "diabetes_dataset.shape"
   ]
  },
  {
   "cell_type": "code",
   "execution_count": 5,
   "id": "0767a66c",
   "metadata": {
    "execution": {
     "iopub.execute_input": "2023-12-24T15:44:17.854830Z",
     "iopub.status.busy": "2023-12-24T15:44:17.854503Z",
     "iopub.status.idle": "2023-12-24T15:44:17.888663Z",
     "shell.execute_reply": "2023-12-24T15:44:17.887469Z"
    },
    "papermill": {
     "duration": 0.044368,
     "end_time": "2023-12-24T15:44:17.890722",
     "exception": false,
     "start_time": "2023-12-24T15:44:17.846354",
     "status": "completed"
    },
    "tags": []
   },
   "outputs": [
    {
     "data": {
      "text/html": [
       "<div>\n",
       "<style scoped>\n",
       "    .dataframe tbody tr th:only-of-type {\n",
       "        vertical-align: middle;\n",
       "    }\n",
       "\n",
       "    .dataframe tbody tr th {\n",
       "        vertical-align: top;\n",
       "    }\n",
       "\n",
       "    .dataframe thead th {\n",
       "        text-align: right;\n",
       "    }\n",
       "</style>\n",
       "<table border=\"1\" class=\"dataframe\">\n",
       "  <thead>\n",
       "    <tr style=\"text-align: right;\">\n",
       "      <th></th>\n",
       "      <th>Pregnancies</th>\n",
       "      <th>Glucose</th>\n",
       "      <th>BloodPressure</th>\n",
       "      <th>SkinThickness</th>\n",
       "      <th>Insulin</th>\n",
       "      <th>BMI</th>\n",
       "      <th>DiabetesPedigreeFunction</th>\n",
       "      <th>Age</th>\n",
       "      <th>Outcome</th>\n",
       "    </tr>\n",
       "  </thead>\n",
       "  <tbody>\n",
       "    <tr>\n",
       "      <th>count</th>\n",
       "      <td>768.000000</td>\n",
       "      <td>768.000000</td>\n",
       "      <td>768.000000</td>\n",
       "      <td>768.000000</td>\n",
       "      <td>768.000000</td>\n",
       "      <td>768.000000</td>\n",
       "      <td>768.000000</td>\n",
       "      <td>768.000000</td>\n",
       "      <td>768.000000</td>\n",
       "    </tr>\n",
       "    <tr>\n",
       "      <th>mean</th>\n",
       "      <td>3.845052</td>\n",
       "      <td>120.894531</td>\n",
       "      <td>69.105469</td>\n",
       "      <td>20.536458</td>\n",
       "      <td>79.799479</td>\n",
       "      <td>31.992578</td>\n",
       "      <td>0.471876</td>\n",
       "      <td>33.240885</td>\n",
       "      <td>0.348958</td>\n",
       "    </tr>\n",
       "    <tr>\n",
       "      <th>std</th>\n",
       "      <td>3.369578</td>\n",
       "      <td>31.972618</td>\n",
       "      <td>19.355807</td>\n",
       "      <td>15.952218</td>\n",
       "      <td>115.244002</td>\n",
       "      <td>7.884160</td>\n",
       "      <td>0.331329</td>\n",
       "      <td>11.760232</td>\n",
       "      <td>0.476951</td>\n",
       "    </tr>\n",
       "    <tr>\n",
       "      <th>min</th>\n",
       "      <td>0.000000</td>\n",
       "      <td>0.000000</td>\n",
       "      <td>0.000000</td>\n",
       "      <td>0.000000</td>\n",
       "      <td>0.000000</td>\n",
       "      <td>0.000000</td>\n",
       "      <td>0.078000</td>\n",
       "      <td>21.000000</td>\n",
       "      <td>0.000000</td>\n",
       "    </tr>\n",
       "    <tr>\n",
       "      <th>25%</th>\n",
       "      <td>1.000000</td>\n",
       "      <td>99.000000</td>\n",
       "      <td>62.000000</td>\n",
       "      <td>0.000000</td>\n",
       "      <td>0.000000</td>\n",
       "      <td>27.300000</td>\n",
       "      <td>0.243750</td>\n",
       "      <td>24.000000</td>\n",
       "      <td>0.000000</td>\n",
       "    </tr>\n",
       "    <tr>\n",
       "      <th>50%</th>\n",
       "      <td>3.000000</td>\n",
       "      <td>117.000000</td>\n",
       "      <td>72.000000</td>\n",
       "      <td>23.000000</td>\n",
       "      <td>30.500000</td>\n",
       "      <td>32.000000</td>\n",
       "      <td>0.372500</td>\n",
       "      <td>29.000000</td>\n",
       "      <td>0.000000</td>\n",
       "    </tr>\n",
       "    <tr>\n",
       "      <th>75%</th>\n",
       "      <td>6.000000</td>\n",
       "      <td>140.250000</td>\n",
       "      <td>80.000000</td>\n",
       "      <td>32.000000</td>\n",
       "      <td>127.250000</td>\n",
       "      <td>36.600000</td>\n",
       "      <td>0.626250</td>\n",
       "      <td>41.000000</td>\n",
       "      <td>1.000000</td>\n",
       "    </tr>\n",
       "    <tr>\n",
       "      <th>max</th>\n",
       "      <td>17.000000</td>\n",
       "      <td>199.000000</td>\n",
       "      <td>122.000000</td>\n",
       "      <td>99.000000</td>\n",
       "      <td>846.000000</td>\n",
       "      <td>67.100000</td>\n",
       "      <td>2.420000</td>\n",
       "      <td>81.000000</td>\n",
       "      <td>1.000000</td>\n",
       "    </tr>\n",
       "  </tbody>\n",
       "</table>\n",
       "</div>"
      ],
      "text/plain": [
       "       Pregnancies     Glucose  BloodPressure  SkinThickness     Insulin  \\\n",
       "count   768.000000  768.000000     768.000000     768.000000  768.000000   \n",
       "mean      3.845052  120.894531      69.105469      20.536458   79.799479   \n",
       "std       3.369578   31.972618      19.355807      15.952218  115.244002   \n",
       "min       0.000000    0.000000       0.000000       0.000000    0.000000   \n",
       "25%       1.000000   99.000000      62.000000       0.000000    0.000000   \n",
       "50%       3.000000  117.000000      72.000000      23.000000   30.500000   \n",
       "75%       6.000000  140.250000      80.000000      32.000000  127.250000   \n",
       "max      17.000000  199.000000     122.000000      99.000000  846.000000   \n",
       "\n",
       "              BMI  DiabetesPedigreeFunction         Age     Outcome  \n",
       "count  768.000000                768.000000  768.000000  768.000000  \n",
       "mean    31.992578                  0.471876   33.240885    0.348958  \n",
       "std      7.884160                  0.331329   11.760232    0.476951  \n",
       "min      0.000000                  0.078000   21.000000    0.000000  \n",
       "25%     27.300000                  0.243750   24.000000    0.000000  \n",
       "50%     32.000000                  0.372500   29.000000    0.000000  \n",
       "75%     36.600000                  0.626250   41.000000    1.000000  \n",
       "max     67.100000                  2.420000   81.000000    1.000000  "
      ]
     },
     "execution_count": 5,
     "metadata": {},
     "output_type": "execute_result"
    }
   ],
   "source": [
    "#getting the statistical measures of the data\n",
    "\n",
    "diabetes_dataset.describe()"
   ]
  },
  {
   "cell_type": "code",
   "execution_count": 6,
   "id": "4e820f65",
   "metadata": {
    "execution": {
     "iopub.execute_input": "2023-12-24T15:44:17.907470Z",
     "iopub.status.busy": "2023-12-24T15:44:17.907107Z",
     "iopub.status.idle": "2023-12-24T15:44:17.918763Z",
     "shell.execute_reply": "2023-12-24T15:44:17.917955Z"
    },
    "papermill": {
     "duration": 0.021884,
     "end_time": "2023-12-24T15:44:17.920355",
     "exception": false,
     "start_time": "2023-12-24T15:44:17.898471",
     "status": "completed"
    },
    "tags": []
   },
   "outputs": [
    {
     "data": {
      "text/plain": [
       "Outcome\n",
       "0    500\n",
       "1    268\n",
       "Name: count, dtype: int64"
      ]
     },
     "execution_count": 6,
     "metadata": {},
     "output_type": "execute_result"
    }
   ],
   "source": [
    "diabetes_dataset['Outcome'].value_counts()"
   ]
  },
  {
   "cell_type": "markdown",
   "id": "43295b9b",
   "metadata": {
    "papermill": {
     "duration": 0.006937,
     "end_time": "2023-12-24T15:44:17.935079",
     "exception": false,
     "start_time": "2023-12-24T15:44:17.928142",
     "status": "completed"
    },
    "tags": []
   },
   "source": [
    "0 -> NON-DIABETIC\n",
    "1 -> DIABETIC"
   ]
  },
  {
   "cell_type": "code",
   "execution_count": 7,
   "id": "4d573cbd",
   "metadata": {
    "execution": {
     "iopub.execute_input": "2023-12-24T15:44:17.951719Z",
     "iopub.status.busy": "2023-12-24T15:44:17.951279Z",
     "iopub.status.idle": "2023-12-24T15:44:17.981720Z",
     "shell.execute_reply": "2023-12-24T15:44:17.980498Z"
    },
    "papermill": {
     "duration": 0.041631,
     "end_time": "2023-12-24T15:44:17.983838",
     "exception": false,
     "start_time": "2023-12-24T15:44:17.942207",
     "status": "completed"
    },
    "tags": []
   },
   "outputs": [
    {
     "data": {
      "text/html": [
       "<div>\n",
       "<style scoped>\n",
       "    .dataframe tbody tr th:only-of-type {\n",
       "        vertical-align: middle;\n",
       "    }\n",
       "\n",
       "    .dataframe tbody tr th {\n",
       "        vertical-align: top;\n",
       "    }\n",
       "\n",
       "    .dataframe thead th {\n",
       "        text-align: right;\n",
       "    }\n",
       "</style>\n",
       "<table border=\"1\" class=\"dataframe\">\n",
       "  <thead>\n",
       "    <tr style=\"text-align: right;\">\n",
       "      <th></th>\n",
       "      <th>Pregnancies</th>\n",
       "      <th>Glucose</th>\n",
       "      <th>BloodPressure</th>\n",
       "      <th>SkinThickness</th>\n",
       "      <th>Insulin</th>\n",
       "      <th>BMI</th>\n",
       "      <th>DiabetesPedigreeFunction</th>\n",
       "      <th>Age</th>\n",
       "    </tr>\n",
       "    <tr>\n",
       "      <th>Outcome</th>\n",
       "      <th></th>\n",
       "      <th></th>\n",
       "      <th></th>\n",
       "      <th></th>\n",
       "      <th></th>\n",
       "      <th></th>\n",
       "      <th></th>\n",
       "      <th></th>\n",
       "    </tr>\n",
       "  </thead>\n",
       "  <tbody>\n",
       "    <tr>\n",
       "      <th>0</th>\n",
       "      <td>3.298000</td>\n",
       "      <td>109.980000</td>\n",
       "      <td>68.184000</td>\n",
       "      <td>19.664000</td>\n",
       "      <td>68.792000</td>\n",
       "      <td>30.304200</td>\n",
       "      <td>0.429734</td>\n",
       "      <td>31.190000</td>\n",
       "    </tr>\n",
       "    <tr>\n",
       "      <th>1</th>\n",
       "      <td>4.865672</td>\n",
       "      <td>141.257463</td>\n",
       "      <td>70.824627</td>\n",
       "      <td>22.164179</td>\n",
       "      <td>100.335821</td>\n",
       "      <td>35.142537</td>\n",
       "      <td>0.550500</td>\n",
       "      <td>37.067164</td>\n",
       "    </tr>\n",
       "  </tbody>\n",
       "</table>\n",
       "</div>"
      ],
      "text/plain": [
       "         Pregnancies     Glucose  BloodPressure  SkinThickness     Insulin  \\\n",
       "Outcome                                                                      \n",
       "0           3.298000  109.980000      68.184000      19.664000   68.792000   \n",
       "1           4.865672  141.257463      70.824627      22.164179  100.335821   \n",
       "\n",
       "               BMI  DiabetesPedigreeFunction        Age  \n",
       "Outcome                                                  \n",
       "0        30.304200                  0.429734  31.190000  \n",
       "1        35.142537                  0.550500  37.067164  "
      ]
     },
     "execution_count": 7,
     "metadata": {},
     "output_type": "execute_result"
    }
   ],
   "source": [
    "diabetes_dataset.groupby('Outcome').mean()"
   ]
  },
  {
   "cell_type": "code",
   "execution_count": 8,
   "id": "b3d1e817",
   "metadata": {
    "execution": {
     "iopub.execute_input": "2023-12-24T15:44:18.001589Z",
     "iopub.status.busy": "2023-12-24T15:44:18.001201Z",
     "iopub.status.idle": "2023-12-24T15:44:18.008945Z",
     "shell.execute_reply": "2023-12-24T15:44:18.008078Z"
    },
    "papermill": {
     "duration": 0.018518,
     "end_time": "2023-12-24T15:44:18.010787",
     "exception": false,
     "start_time": "2023-12-24T15:44:17.992269",
     "status": "completed"
    },
    "tags": []
   },
   "outputs": [],
   "source": [
    "#Separating the data and labels\n",
    "\n",
    "X=diabetes_dataset.drop(columns='Outcome',axis=1)\n",
    "Y=diabetes_dataset['Outcome']"
   ]
  },
  {
   "cell_type": "code",
   "execution_count": 9,
   "id": "3563fc2a",
   "metadata": {
    "execution": {
     "iopub.execute_input": "2023-12-24T15:44:18.029849Z",
     "iopub.status.busy": "2023-12-24T15:44:18.029420Z",
     "iopub.status.idle": "2023-12-24T15:44:18.043248Z",
     "shell.execute_reply": "2023-12-24T15:44:18.042093Z"
    },
    "papermill": {
     "duration": 0.026193,
     "end_time": "2023-12-24T15:44:18.045173",
     "exception": false,
     "start_time": "2023-12-24T15:44:18.018980",
     "status": "completed"
    },
    "tags": []
   },
   "outputs": [
    {
     "data": {
      "text/html": [
       "<div>\n",
       "<style scoped>\n",
       "    .dataframe tbody tr th:only-of-type {\n",
       "        vertical-align: middle;\n",
       "    }\n",
       "\n",
       "    .dataframe tbody tr th {\n",
       "        vertical-align: top;\n",
       "    }\n",
       "\n",
       "    .dataframe thead th {\n",
       "        text-align: right;\n",
       "    }\n",
       "</style>\n",
       "<table border=\"1\" class=\"dataframe\">\n",
       "  <thead>\n",
       "    <tr style=\"text-align: right;\">\n",
       "      <th></th>\n",
       "      <th>Pregnancies</th>\n",
       "      <th>Glucose</th>\n",
       "      <th>BloodPressure</th>\n",
       "      <th>SkinThickness</th>\n",
       "      <th>Insulin</th>\n",
       "      <th>BMI</th>\n",
       "      <th>DiabetesPedigreeFunction</th>\n",
       "      <th>Age</th>\n",
       "    </tr>\n",
       "  </thead>\n",
       "  <tbody>\n",
       "    <tr>\n",
       "      <th>0</th>\n",
       "      <td>6</td>\n",
       "      <td>148</td>\n",
       "      <td>72</td>\n",
       "      <td>35</td>\n",
       "      <td>0</td>\n",
       "      <td>33.6</td>\n",
       "      <td>0.627</td>\n",
       "      <td>50</td>\n",
       "    </tr>\n",
       "    <tr>\n",
       "      <th>1</th>\n",
       "      <td>1</td>\n",
       "      <td>85</td>\n",
       "      <td>66</td>\n",
       "      <td>29</td>\n",
       "      <td>0</td>\n",
       "      <td>26.6</td>\n",
       "      <td>0.351</td>\n",
       "      <td>31</td>\n",
       "    </tr>\n",
       "    <tr>\n",
       "      <th>2</th>\n",
       "      <td>8</td>\n",
       "      <td>183</td>\n",
       "      <td>64</td>\n",
       "      <td>0</td>\n",
       "      <td>0</td>\n",
       "      <td>23.3</td>\n",
       "      <td>0.672</td>\n",
       "      <td>32</td>\n",
       "    </tr>\n",
       "    <tr>\n",
       "      <th>3</th>\n",
       "      <td>1</td>\n",
       "      <td>89</td>\n",
       "      <td>66</td>\n",
       "      <td>23</td>\n",
       "      <td>94</td>\n",
       "      <td>28.1</td>\n",
       "      <td>0.167</td>\n",
       "      <td>21</td>\n",
       "    </tr>\n",
       "    <tr>\n",
       "      <th>4</th>\n",
       "      <td>0</td>\n",
       "      <td>137</td>\n",
       "      <td>40</td>\n",
       "      <td>35</td>\n",
       "      <td>168</td>\n",
       "      <td>43.1</td>\n",
       "      <td>2.288</td>\n",
       "      <td>33</td>\n",
       "    </tr>\n",
       "  </tbody>\n",
       "</table>\n",
       "</div>"
      ],
      "text/plain": [
       "   Pregnancies  Glucose  BloodPressure  SkinThickness  Insulin   BMI  \\\n",
       "0            6      148             72             35        0  33.6   \n",
       "1            1       85             66             29        0  26.6   \n",
       "2            8      183             64              0        0  23.3   \n",
       "3            1       89             66             23       94  28.1   \n",
       "4            0      137             40             35      168  43.1   \n",
       "\n",
       "   DiabetesPedigreeFunction  Age  \n",
       "0                     0.627   50  \n",
       "1                     0.351   31  \n",
       "2                     0.672   32  \n",
       "3                     0.167   21  \n",
       "4                     2.288   33  "
      ]
     },
     "execution_count": 9,
     "metadata": {},
     "output_type": "execute_result"
    }
   ],
   "source": [
    "X.head()"
   ]
  },
  {
   "cell_type": "code",
   "execution_count": 10,
   "id": "0dee0179",
   "metadata": {
    "execution": {
     "iopub.execute_input": "2023-12-24T15:44:18.064182Z",
     "iopub.status.busy": "2023-12-24T15:44:18.063761Z",
     "iopub.status.idle": "2023-12-24T15:44:18.072397Z",
     "shell.execute_reply": "2023-12-24T15:44:18.071134Z"
    },
    "papermill": {
     "duration": 0.021553,
     "end_time": "2023-12-24T15:44:18.075460",
     "exception": false,
     "start_time": "2023-12-24T15:44:18.053907",
     "status": "completed"
    },
    "tags": []
   },
   "outputs": [
    {
     "data": {
      "text/plain": [
       "0    1\n",
       "1    0\n",
       "2    1\n",
       "3    0\n",
       "4    1\n",
       "Name: Outcome, dtype: int64"
      ]
     },
     "execution_count": 10,
     "metadata": {},
     "output_type": "execute_result"
    }
   ],
   "source": [
    "Y.head()"
   ]
  },
  {
   "cell_type": "markdown",
   "id": "5bc6a7ba",
   "metadata": {
    "papermill": {
     "duration": 0.008054,
     "end_time": "2023-12-24T15:44:18.092577",
     "exception": false,
     "start_time": "2023-12-24T15:44:18.084523",
     "status": "completed"
    },
    "tags": []
   },
   "source": [
    "# Data Standardization"
   ]
  },
  {
   "cell_type": "code",
   "execution_count": 11,
   "id": "d9b665df",
   "metadata": {
    "execution": {
     "iopub.execute_input": "2023-12-24T15:44:18.111772Z",
     "iopub.status.busy": "2023-12-24T15:44:18.111355Z",
     "iopub.status.idle": "2023-12-24T15:44:18.117080Z",
     "shell.execute_reply": "2023-12-24T15:44:18.115461Z"
    },
    "papermill": {
     "duration": 0.018853,
     "end_time": "2023-12-24T15:44:18.119974",
     "exception": false,
     "start_time": "2023-12-24T15:44:18.101121",
     "status": "completed"
    },
    "tags": []
   },
   "outputs": [],
   "source": [
    "scaler=StandardScaler()"
   ]
  },
  {
   "cell_type": "code",
   "execution_count": 12,
   "id": "52c78171",
   "metadata": {
    "execution": {
     "iopub.execute_input": "2023-12-24T15:44:18.138865Z",
     "iopub.status.busy": "2023-12-24T15:44:18.138154Z",
     "iopub.status.idle": "2023-12-24T15:44:18.148987Z",
     "shell.execute_reply": "2023-12-24T15:44:18.148175Z"
    },
    "papermill": {
     "duration": 0.021839,
     "end_time": "2023-12-24T15:44:18.150611",
     "exception": false,
     "start_time": "2023-12-24T15:44:18.128772",
     "status": "completed"
    },
    "tags": []
   },
   "outputs": [
    {
     "data": {
      "text/html": [
       "<style>#sk-container-id-1 {color: black;background-color: white;}#sk-container-id-1 pre{padding: 0;}#sk-container-id-1 div.sk-toggleable {background-color: white;}#sk-container-id-1 label.sk-toggleable__label {cursor: pointer;display: block;width: 100%;margin-bottom: 0;padding: 0.3em;box-sizing: border-box;text-align: center;}#sk-container-id-1 label.sk-toggleable__label-arrow:before {content: \"▸\";float: left;margin-right: 0.25em;color: #696969;}#sk-container-id-1 label.sk-toggleable__label-arrow:hover:before {color: black;}#sk-container-id-1 div.sk-estimator:hover label.sk-toggleable__label-arrow:before {color: black;}#sk-container-id-1 div.sk-toggleable__content {max-height: 0;max-width: 0;overflow: hidden;text-align: left;background-color: #f0f8ff;}#sk-container-id-1 div.sk-toggleable__content pre {margin: 0.2em;color: black;border-radius: 0.25em;background-color: #f0f8ff;}#sk-container-id-1 input.sk-toggleable__control:checked~div.sk-toggleable__content {max-height: 200px;max-width: 100%;overflow: auto;}#sk-container-id-1 input.sk-toggleable__control:checked~label.sk-toggleable__label-arrow:before {content: \"▾\";}#sk-container-id-1 div.sk-estimator input.sk-toggleable__control:checked~label.sk-toggleable__label {background-color: #d4ebff;}#sk-container-id-1 div.sk-label input.sk-toggleable__control:checked~label.sk-toggleable__label {background-color: #d4ebff;}#sk-container-id-1 input.sk-hidden--visually {border: 0;clip: rect(1px 1px 1px 1px);clip: rect(1px, 1px, 1px, 1px);height: 1px;margin: -1px;overflow: hidden;padding: 0;position: absolute;width: 1px;}#sk-container-id-1 div.sk-estimator {font-family: monospace;background-color: #f0f8ff;border: 1px dotted black;border-radius: 0.25em;box-sizing: border-box;margin-bottom: 0.5em;}#sk-container-id-1 div.sk-estimator:hover {background-color: #d4ebff;}#sk-container-id-1 div.sk-parallel-item::after {content: \"\";width: 100%;border-bottom: 1px solid gray;flex-grow: 1;}#sk-container-id-1 div.sk-label:hover label.sk-toggleable__label {background-color: #d4ebff;}#sk-container-id-1 div.sk-serial::before {content: \"\";position: absolute;border-left: 1px solid gray;box-sizing: border-box;top: 0;bottom: 0;left: 50%;z-index: 0;}#sk-container-id-1 div.sk-serial {display: flex;flex-direction: column;align-items: center;background-color: white;padding-right: 0.2em;padding-left: 0.2em;position: relative;}#sk-container-id-1 div.sk-item {position: relative;z-index: 1;}#sk-container-id-1 div.sk-parallel {display: flex;align-items: stretch;justify-content: center;background-color: white;position: relative;}#sk-container-id-1 div.sk-item::before, #sk-container-id-1 div.sk-parallel-item::before {content: \"\";position: absolute;border-left: 1px solid gray;box-sizing: border-box;top: 0;bottom: 0;left: 50%;z-index: -1;}#sk-container-id-1 div.sk-parallel-item {display: flex;flex-direction: column;z-index: 1;position: relative;background-color: white;}#sk-container-id-1 div.sk-parallel-item:first-child::after {align-self: flex-end;width: 50%;}#sk-container-id-1 div.sk-parallel-item:last-child::after {align-self: flex-start;width: 50%;}#sk-container-id-1 div.sk-parallel-item:only-child::after {width: 0;}#sk-container-id-1 div.sk-dashed-wrapped {border: 1px dashed gray;margin: 0 0.4em 0.5em 0.4em;box-sizing: border-box;padding-bottom: 0.4em;background-color: white;}#sk-container-id-1 div.sk-label label {font-family: monospace;font-weight: bold;display: inline-block;line-height: 1.2em;}#sk-container-id-1 div.sk-label-container {text-align: center;}#sk-container-id-1 div.sk-container {/* jupyter's `normalize.less` sets `[hidden] { display: none; }` but bootstrap.min.css set `[hidden] { display: none !important; }` so we also need the `!important` here to be able to override the default hidden behavior on the sphinx rendered scikit-learn.org. See: https://github.com/scikit-learn/scikit-learn/issues/21755 */display: inline-block !important;position: relative;}#sk-container-id-1 div.sk-text-repr-fallback {display: none;}</style><div id=\"sk-container-id-1\" class=\"sk-top-container\"><div class=\"sk-text-repr-fallback\"><pre>StandardScaler()</pre><b>In a Jupyter environment, please rerun this cell to show the HTML representation or trust the notebook. <br />On GitHub, the HTML representation is unable to render, please try loading this page with nbviewer.org.</b></div><div class=\"sk-container\" hidden><div class=\"sk-item\"><div class=\"sk-estimator sk-toggleable\"><input class=\"sk-toggleable__control sk-hidden--visually\" id=\"sk-estimator-id-1\" type=\"checkbox\" checked><label for=\"sk-estimator-id-1\" class=\"sk-toggleable__label sk-toggleable__label-arrow\">StandardScaler</label><div class=\"sk-toggleable__content\"><pre>StandardScaler()</pre></div></div></div></div></div>"
      ],
      "text/plain": [
       "StandardScaler()"
      ]
     },
     "execution_count": 12,
     "metadata": {},
     "output_type": "execute_result"
    }
   ],
   "source": [
    "scaler.fit(X)"
   ]
  },
  {
   "cell_type": "code",
   "execution_count": 13,
   "id": "515c3747",
   "metadata": {
    "execution": {
     "iopub.execute_input": "2023-12-24T15:44:18.172758Z",
     "iopub.status.busy": "2023-12-24T15:44:18.172289Z",
     "iopub.status.idle": "2023-12-24T15:44:18.181708Z",
     "shell.execute_reply": "2023-12-24T15:44:18.180329Z"
    },
    "papermill": {
     "duration": 0.024103,
     "end_time": "2023-12-24T15:44:18.184567",
     "exception": false,
     "start_time": "2023-12-24T15:44:18.160464",
     "status": "completed"
    },
    "tags": []
   },
   "outputs": [],
   "source": [
    "standardized_data=scaler.transform(X)"
   ]
  },
  {
   "cell_type": "code",
   "execution_count": 14,
   "id": "a9ab8794",
   "metadata": {
    "execution": {
     "iopub.execute_input": "2023-12-24T15:44:18.204647Z",
     "iopub.status.busy": "2023-12-24T15:44:18.204253Z",
     "iopub.status.idle": "2023-12-24T15:44:18.210595Z",
     "shell.execute_reply": "2023-12-24T15:44:18.209684Z"
    },
    "papermill": {
     "duration": 0.018856,
     "end_time": "2023-12-24T15:44:18.212618",
     "exception": false,
     "start_time": "2023-12-24T15:44:18.193762",
     "status": "completed"
    },
    "tags": []
   },
   "outputs": [
    {
     "name": "stdout",
     "output_type": "stream",
     "text": [
      "[[ 0.63994726  0.84832379  0.14964075 ...  0.20401277  0.46849198\n",
      "   1.4259954 ]\n",
      " [-0.84488505 -1.12339636 -0.16054575 ... -0.68442195 -0.36506078\n",
      "  -0.19067191]\n",
      " [ 1.23388019  1.94372388 -0.26394125 ... -1.10325546  0.60439732\n",
      "  -0.10558415]\n",
      " ...\n",
      " [ 0.3429808   0.00330087  0.14964075 ... -0.73518964 -0.68519336\n",
      "  -0.27575966]\n",
      " [-0.84488505  0.1597866  -0.47073225 ... -0.24020459 -0.37110101\n",
      "   1.17073215]\n",
      " [-0.84488505 -0.8730192   0.04624525 ... -0.20212881 -0.47378505\n",
      "  -0.87137393]]\n"
     ]
    }
   ],
   "source": [
    "print(standardized_data)"
   ]
  },
  {
   "cell_type": "code",
   "execution_count": 15,
   "id": "f9fafb60",
   "metadata": {
    "execution": {
     "iopub.execute_input": "2023-12-24T15:44:18.231467Z",
     "iopub.status.busy": "2023-12-24T15:44:18.231001Z",
     "iopub.status.idle": "2023-12-24T15:44:18.236156Z",
     "shell.execute_reply": "2023-12-24T15:44:18.235068Z"
    },
    "papermill": {
     "duration": 0.016578,
     "end_time": "2023-12-24T15:44:18.237994",
     "exception": false,
     "start_time": "2023-12-24T15:44:18.221416",
     "status": "completed"
    },
    "tags": []
   },
   "outputs": [],
   "source": [
    "X=standardized_data\n",
    "Y=diabetes_dataset['Outcome']"
   ]
  },
  {
   "cell_type": "code",
   "execution_count": 16,
   "id": "8e28ee1f",
   "metadata": {
    "execution": {
     "iopub.execute_input": "2023-12-24T15:44:18.256018Z",
     "iopub.status.busy": "2023-12-24T15:44:18.255643Z",
     "iopub.status.idle": "2023-12-24T15:44:18.261866Z",
     "shell.execute_reply": "2023-12-24T15:44:18.260710Z"
    },
    "papermill": {
     "duration": 0.017142,
     "end_time": "2023-12-24T15:44:18.263523",
     "exception": false,
     "start_time": "2023-12-24T15:44:18.246381",
     "status": "completed"
    },
    "tags": []
   },
   "outputs": [
    {
     "name": "stdout",
     "output_type": "stream",
     "text": [
      "[[ 0.63994726  0.84832379  0.14964075 ...  0.20401277  0.46849198\n",
      "   1.4259954 ]\n",
      " [-0.84488505 -1.12339636 -0.16054575 ... -0.68442195 -0.36506078\n",
      "  -0.19067191]\n",
      " [ 1.23388019  1.94372388 -0.26394125 ... -1.10325546  0.60439732\n",
      "  -0.10558415]\n",
      " ...\n",
      " [ 0.3429808   0.00330087  0.14964075 ... -0.73518964 -0.68519336\n",
      "  -0.27575966]\n",
      " [-0.84488505  0.1597866  -0.47073225 ... -0.24020459 -0.37110101\n",
      "   1.17073215]\n",
      " [-0.84488505 -0.8730192   0.04624525 ... -0.20212881 -0.47378505\n",
      "  -0.87137393]]\n"
     ]
    }
   ],
   "source": [
    "print(X)"
   ]
  },
  {
   "cell_type": "code",
   "execution_count": 17,
   "id": "3cdff4d4",
   "metadata": {
    "execution": {
     "iopub.execute_input": "2023-12-24T15:44:18.281681Z",
     "iopub.status.busy": "2023-12-24T15:44:18.281283Z",
     "iopub.status.idle": "2023-12-24T15:44:18.289813Z",
     "shell.execute_reply": "2023-12-24T15:44:18.288193Z"
    },
    "papermill": {
     "duration": 0.020013,
     "end_time": "2023-12-24T15:44:18.291948",
     "exception": false,
     "start_time": "2023-12-24T15:44:18.271935",
     "status": "completed"
    },
    "tags": []
   },
   "outputs": [
    {
     "name": "stdout",
     "output_type": "stream",
     "text": [
      "0      1\n",
      "1      0\n",
      "2      1\n",
      "3      0\n",
      "4      1\n",
      "      ..\n",
      "763    0\n",
      "764    0\n",
      "765    0\n",
      "766    1\n",
      "767    0\n",
      "Name: Outcome, Length: 768, dtype: int64\n"
     ]
    }
   ],
   "source": [
    "print(Y)"
   ]
  },
  {
   "cell_type": "markdown",
   "id": "4be16954",
   "metadata": {
    "papermill": {
     "duration": 0.008515,
     "end_time": "2023-12-24T15:44:18.309783",
     "exception": false,
     "start_time": "2023-12-24T15:44:18.301268",
     "status": "completed"
    },
    "tags": []
   },
   "source": [
    "# Splitting data into train and test set"
   ]
  },
  {
   "cell_type": "code",
   "execution_count": 18,
   "id": "6f20addd",
   "metadata": {
    "execution": {
     "iopub.execute_input": "2023-12-24T15:44:18.329639Z",
     "iopub.status.busy": "2023-12-24T15:44:18.329211Z",
     "iopub.status.idle": "2023-12-24T15:44:18.338463Z",
     "shell.execute_reply": "2023-12-24T15:44:18.337801Z"
    },
    "papermill": {
     "duration": 0.021598,
     "end_time": "2023-12-24T15:44:18.340279",
     "exception": false,
     "start_time": "2023-12-24T15:44:18.318681",
     "status": "completed"
    },
    "tags": []
   },
   "outputs": [],
   "source": [
    "X_train,X_test,Y_train,Y_test=train_test_split(X,Y,test_size=0.2,stratify=Y,random_state=2)"
   ]
  },
  {
   "cell_type": "code",
   "execution_count": 19,
   "id": "15520853",
   "metadata": {
    "execution": {
     "iopub.execute_input": "2023-12-24T15:44:18.436352Z",
     "iopub.status.busy": "2023-12-24T15:44:18.435897Z",
     "iopub.status.idle": "2023-12-24T15:44:18.442281Z",
     "shell.execute_reply": "2023-12-24T15:44:18.440992Z"
    },
    "papermill": {
     "duration": 0.019791,
     "end_time": "2023-12-24T15:44:18.445395",
     "exception": false,
     "start_time": "2023-12-24T15:44:18.425604",
     "status": "completed"
    },
    "tags": []
   },
   "outputs": [
    {
     "name": "stdout",
     "output_type": "stream",
     "text": [
      "(768, 8) (614, 8) (154, 8)\n"
     ]
    }
   ],
   "source": [
    "print(X.shape,X_train.shape,X_test.shape)"
   ]
  },
  {
   "cell_type": "code",
   "execution_count": 20,
   "id": "9c85a4c1",
   "metadata": {
    "execution": {
     "iopub.execute_input": "2023-12-24T15:44:18.465792Z",
     "iopub.status.busy": "2023-12-24T15:44:18.465396Z",
     "iopub.status.idle": "2023-12-24T15:44:18.471449Z",
     "shell.execute_reply": "2023-12-24T15:44:18.470295Z"
    },
    "papermill": {
     "duration": 0.019454,
     "end_time": "2023-12-24T15:44:18.474458",
     "exception": false,
     "start_time": "2023-12-24T15:44:18.455004",
     "status": "completed"
    },
    "tags": []
   },
   "outputs": [
    {
     "name": "stdout",
     "output_type": "stream",
     "text": [
      "(768,) (614,) (154,)\n"
     ]
    }
   ],
   "source": [
    "print(Y.shape,Y_train.shape,Y_test.shape)"
   ]
  },
  {
   "cell_type": "markdown",
   "id": "1b7e5531",
   "metadata": {
    "papermill": {
     "duration": 0.009725,
     "end_time": "2023-12-24T15:44:18.494215",
     "exception": false,
     "start_time": "2023-12-24T15:44:18.484490",
     "status": "completed"
    },
    "tags": []
   },
   "source": [
    "# Training the model"
   ]
  },
  {
   "cell_type": "code",
   "execution_count": 21,
   "id": "b9bec43c",
   "metadata": {
    "execution": {
     "iopub.execute_input": "2023-12-24T15:44:18.515719Z",
     "iopub.status.busy": "2023-12-24T15:44:18.515287Z",
     "iopub.status.idle": "2023-12-24T15:44:18.521105Z",
     "shell.execute_reply": "2023-12-24T15:44:18.519878Z"
    },
    "papermill": {
     "duration": 0.019198,
     "end_time": "2023-12-24T15:44:18.523042",
     "exception": false,
     "start_time": "2023-12-24T15:44:18.503844",
     "status": "completed"
    },
    "tags": []
   },
   "outputs": [],
   "source": [
    "classifier=svm.SVC(kernel='linear')"
   ]
  },
  {
   "cell_type": "code",
   "execution_count": 22,
   "id": "3506191d",
   "metadata": {
    "execution": {
     "iopub.execute_input": "2023-12-24T15:44:18.545147Z",
     "iopub.status.busy": "2023-12-24T15:44:18.544531Z",
     "iopub.status.idle": "2023-12-24T15:44:18.562966Z",
     "shell.execute_reply": "2023-12-24T15:44:18.561984Z"
    },
    "papermill": {
     "duration": 0.031806,
     "end_time": "2023-12-24T15:44:18.565346",
     "exception": false,
     "start_time": "2023-12-24T15:44:18.533540",
     "status": "completed"
    },
    "tags": []
   },
   "outputs": [
    {
     "data": {
      "text/html": [
       "<style>#sk-container-id-2 {color: black;background-color: white;}#sk-container-id-2 pre{padding: 0;}#sk-container-id-2 div.sk-toggleable {background-color: white;}#sk-container-id-2 label.sk-toggleable__label {cursor: pointer;display: block;width: 100%;margin-bottom: 0;padding: 0.3em;box-sizing: border-box;text-align: center;}#sk-container-id-2 label.sk-toggleable__label-arrow:before {content: \"▸\";float: left;margin-right: 0.25em;color: #696969;}#sk-container-id-2 label.sk-toggleable__label-arrow:hover:before {color: black;}#sk-container-id-2 div.sk-estimator:hover label.sk-toggleable__label-arrow:before {color: black;}#sk-container-id-2 div.sk-toggleable__content {max-height: 0;max-width: 0;overflow: hidden;text-align: left;background-color: #f0f8ff;}#sk-container-id-2 div.sk-toggleable__content pre {margin: 0.2em;color: black;border-radius: 0.25em;background-color: #f0f8ff;}#sk-container-id-2 input.sk-toggleable__control:checked~div.sk-toggleable__content {max-height: 200px;max-width: 100%;overflow: auto;}#sk-container-id-2 input.sk-toggleable__control:checked~label.sk-toggleable__label-arrow:before {content: \"▾\";}#sk-container-id-2 div.sk-estimator input.sk-toggleable__control:checked~label.sk-toggleable__label {background-color: #d4ebff;}#sk-container-id-2 div.sk-label input.sk-toggleable__control:checked~label.sk-toggleable__label {background-color: #d4ebff;}#sk-container-id-2 input.sk-hidden--visually {border: 0;clip: rect(1px 1px 1px 1px);clip: rect(1px, 1px, 1px, 1px);height: 1px;margin: -1px;overflow: hidden;padding: 0;position: absolute;width: 1px;}#sk-container-id-2 div.sk-estimator {font-family: monospace;background-color: #f0f8ff;border: 1px dotted black;border-radius: 0.25em;box-sizing: border-box;margin-bottom: 0.5em;}#sk-container-id-2 div.sk-estimator:hover {background-color: #d4ebff;}#sk-container-id-2 div.sk-parallel-item::after {content: \"\";width: 100%;border-bottom: 1px solid gray;flex-grow: 1;}#sk-container-id-2 div.sk-label:hover label.sk-toggleable__label {background-color: #d4ebff;}#sk-container-id-2 div.sk-serial::before {content: \"\";position: absolute;border-left: 1px solid gray;box-sizing: border-box;top: 0;bottom: 0;left: 50%;z-index: 0;}#sk-container-id-2 div.sk-serial {display: flex;flex-direction: column;align-items: center;background-color: white;padding-right: 0.2em;padding-left: 0.2em;position: relative;}#sk-container-id-2 div.sk-item {position: relative;z-index: 1;}#sk-container-id-2 div.sk-parallel {display: flex;align-items: stretch;justify-content: center;background-color: white;position: relative;}#sk-container-id-2 div.sk-item::before, #sk-container-id-2 div.sk-parallel-item::before {content: \"\";position: absolute;border-left: 1px solid gray;box-sizing: border-box;top: 0;bottom: 0;left: 50%;z-index: -1;}#sk-container-id-2 div.sk-parallel-item {display: flex;flex-direction: column;z-index: 1;position: relative;background-color: white;}#sk-container-id-2 div.sk-parallel-item:first-child::after {align-self: flex-end;width: 50%;}#sk-container-id-2 div.sk-parallel-item:last-child::after {align-self: flex-start;width: 50%;}#sk-container-id-2 div.sk-parallel-item:only-child::after {width: 0;}#sk-container-id-2 div.sk-dashed-wrapped {border: 1px dashed gray;margin: 0 0.4em 0.5em 0.4em;box-sizing: border-box;padding-bottom: 0.4em;background-color: white;}#sk-container-id-2 div.sk-label label {font-family: monospace;font-weight: bold;display: inline-block;line-height: 1.2em;}#sk-container-id-2 div.sk-label-container {text-align: center;}#sk-container-id-2 div.sk-container {/* jupyter's `normalize.less` sets `[hidden] { display: none; }` but bootstrap.min.css set `[hidden] { display: none !important; }` so we also need the `!important` here to be able to override the default hidden behavior on the sphinx rendered scikit-learn.org. See: https://github.com/scikit-learn/scikit-learn/issues/21755 */display: inline-block !important;position: relative;}#sk-container-id-2 div.sk-text-repr-fallback {display: none;}</style><div id=\"sk-container-id-2\" class=\"sk-top-container\"><div class=\"sk-text-repr-fallback\"><pre>SVC(kernel=&#x27;linear&#x27;)</pre><b>In a Jupyter environment, please rerun this cell to show the HTML representation or trust the notebook. <br />On GitHub, the HTML representation is unable to render, please try loading this page with nbviewer.org.</b></div><div class=\"sk-container\" hidden><div class=\"sk-item\"><div class=\"sk-estimator sk-toggleable\"><input class=\"sk-toggleable__control sk-hidden--visually\" id=\"sk-estimator-id-2\" type=\"checkbox\" checked><label for=\"sk-estimator-id-2\" class=\"sk-toggleable__label sk-toggleable__label-arrow\">SVC</label><div class=\"sk-toggleable__content\"><pre>SVC(kernel=&#x27;linear&#x27;)</pre></div></div></div></div></div>"
      ],
      "text/plain": [
       "SVC(kernel='linear')"
      ]
     },
     "execution_count": 22,
     "metadata": {},
     "output_type": "execute_result"
    }
   ],
   "source": [
    "#Training the support vector machine classifier\n",
    "classifier.fit(X_train,Y_train)"
   ]
  },
  {
   "cell_type": "markdown",
   "id": "7a192800",
   "metadata": {
    "papermill": {
     "duration": 0.008876,
     "end_time": "2023-12-24T15:44:18.583743",
     "exception": false,
     "start_time": "2023-12-24T15:44:18.574867",
     "status": "completed"
    },
    "tags": []
   },
   "source": [
    "# Model Evaluation"
   ]
  },
  {
   "cell_type": "markdown",
   "id": "74d519c6",
   "metadata": {
    "papermill": {
     "duration": 0.009843,
     "end_time": "2023-12-24T15:44:18.602805",
     "exception": false,
     "start_time": "2023-12-24T15:44:18.592962",
     "status": "completed"
    },
    "tags": []
   },
   "source": [
    "Accuracy Score"
   ]
  },
  {
   "cell_type": "code",
   "execution_count": 23,
   "id": "16c72585",
   "metadata": {
    "execution": {
     "iopub.execute_input": "2023-12-24T15:44:18.623576Z",
     "iopub.status.busy": "2023-12-24T15:44:18.623125Z",
     "iopub.status.idle": "2023-12-24T15:44:18.632187Z",
     "shell.execute_reply": "2023-12-24T15:44:18.631310Z"
    },
    "papermill": {
     "duration": 0.021932,
     "end_time": "2023-12-24T15:44:18.634188",
     "exception": false,
     "start_time": "2023-12-24T15:44:18.612256",
     "status": "completed"
    },
    "tags": []
   },
   "outputs": [],
   "source": [
    "#accuracy score on the training data\n",
    "\n",
    "X_train_prediction=classifier.predict(X_train)\n",
    "training_data_accuracy=accuracy_score(X_train_prediction,Y_train)"
   ]
  },
  {
   "cell_type": "code",
   "execution_count": 24,
   "id": "7e9bd0b3",
   "metadata": {
    "execution": {
     "iopub.execute_input": "2023-12-24T15:44:18.653640Z",
     "iopub.status.busy": "2023-12-24T15:44:18.653219Z",
     "iopub.status.idle": "2023-12-24T15:44:18.658301Z",
     "shell.execute_reply": "2023-12-24T15:44:18.657448Z"
    },
    "papermill": {
     "duration": 0.017104,
     "end_time": "2023-12-24T15:44:18.660475",
     "exception": false,
     "start_time": "2023-12-24T15:44:18.643371",
     "status": "completed"
    },
    "tags": []
   },
   "outputs": [
    {
     "name": "stdout",
     "output_type": "stream",
     "text": [
      "Accuracy of the training data: 0.7866449511400652\n"
     ]
    }
   ],
   "source": [
    "print(\"Accuracy of the training data:\",training_data_accuracy)"
   ]
  },
  {
   "cell_type": "code",
   "execution_count": 25,
   "id": "9f7aa2cb",
   "metadata": {
    "execution": {
     "iopub.execute_input": "2023-12-24T15:44:18.681491Z",
     "iopub.status.busy": "2023-12-24T15:44:18.681039Z",
     "iopub.status.idle": "2023-12-24T15:44:18.688623Z",
     "shell.execute_reply": "2023-12-24T15:44:18.687282Z"
    },
    "papermill": {
     "duration": 0.021136,
     "end_time": "2023-12-24T15:44:18.691266",
     "exception": false,
     "start_time": "2023-12-24T15:44:18.670130",
     "status": "completed"
    },
    "tags": []
   },
   "outputs": [],
   "source": [
    "X_test_prediction=classifier.predict(X_test)\n",
    "test_data_accuracy=accuracy_score(X_test_prediction,Y_test)"
   ]
  },
  {
   "cell_type": "code",
   "execution_count": 26,
   "id": "85726638",
   "metadata": {
    "execution": {
     "iopub.execute_input": "2023-12-24T15:44:18.713482Z",
     "iopub.status.busy": "2023-12-24T15:44:18.713072Z",
     "iopub.status.idle": "2023-12-24T15:44:18.719629Z",
     "shell.execute_reply": "2023-12-24T15:44:18.718134Z"
    },
    "papermill": {
     "duration": 0.020656,
     "end_time": "2023-12-24T15:44:18.721473",
     "exception": false,
     "start_time": "2023-12-24T15:44:18.700817",
     "status": "completed"
    },
    "tags": []
   },
   "outputs": [
    {
     "name": "stdout",
     "output_type": "stream",
     "text": [
      "Accuracy of the training data: 0.7727272727272727\n"
     ]
    }
   ],
   "source": [
    "print(\"Accuracy of the training data:\",test_data_accuracy)"
   ]
  },
  {
   "cell_type": "markdown",
   "id": "a5d368c8",
   "metadata": {
    "papermill": {
     "duration": 0.008636,
     "end_time": "2023-12-24T15:44:18.739836",
     "exception": false,
     "start_time": "2023-12-24T15:44:18.731200",
     "status": "completed"
    },
    "tags": []
   },
   "source": [
    "# Making a predictive system"
   ]
  },
  {
   "cell_type": "code",
   "execution_count": 27,
   "id": "a302c056",
   "metadata": {
    "execution": {
     "iopub.execute_input": "2023-12-24T15:44:18.759076Z",
     "iopub.status.busy": "2023-12-24T15:44:18.758657Z",
     "iopub.status.idle": "2023-12-24T15:44:18.766262Z",
     "shell.execute_reply": "2023-12-24T15:44:18.765359Z"
    },
    "papermill": {
     "duration": 0.019571,
     "end_time": "2023-12-24T15:44:18.767960",
     "exception": false,
     "start_time": "2023-12-24T15:44:18.748389",
     "status": "completed"
    },
    "tags": []
   },
   "outputs": [
    {
     "name": "stdout",
     "output_type": "stream",
     "text": [
      "[[ 0.3429808   1.41167241  0.14964075 -0.09637905  0.82661621 -0.78595734\n",
      "   0.34768723  1.51108316]]\n",
      "[1]\n",
      "Person is diabetic\n"
     ]
    }
   ],
   "source": [
    "\n",
    "input_data=(5,166,72,19,175,25.8,0.587,51)\n",
    "\n",
    "#changing the input_data to  numpy array\n",
    "input_data_array=np.asarray(input_data)\n",
    "\n",
    "#reshaping the data for this instance\n",
    "input_data_reshaped=input_data_array.reshape(1,-1)\n",
    "\n",
    "#standardize the input data\n",
    "std_data=scaler.transform(input_data_reshaped)\n",
    "print(std_data)\n",
    "\n",
    "prediction=classifier.predict(std_data)\n",
    "print(prediction)\n",
    "\n",
    "if(prediction[0]==0):\n",
    "    print(\"Person is not diabetic\")\n",
    "else:\n",
    "    print(\"Person is diabetic\")"
   ]
  },
  {
   "cell_type": "code",
   "execution_count": null,
   "id": "bce42b4a",
   "metadata": {
    "papermill": {
     "duration": 0.008365,
     "end_time": "2023-12-24T15:44:18.785269",
     "exception": false,
     "start_time": "2023-12-24T15:44:18.776904",
     "status": "completed"
    },
    "tags": []
   },
   "outputs": [],
   "source": []
  }
 ],
 "metadata": {
  "kaggle": {
   "accelerator": "none",
   "dataSources": [
    {
     "datasetId": 228,
     "sourceId": 482,
     "sourceType": "datasetVersion"
    }
   ],
   "dockerImageVersionId": 30626,
   "isGpuEnabled": false,
   "isInternetEnabled": true,
   "language": "python",
   "sourceType": "notebook"
  },
  "kernelspec": {
   "display_name": "Python 3",
   "language": "python",
   "name": "python3"
  },
  "language_info": {
   "codemirror_mode": {
    "name": "ipython",
    "version": 3
   },
   "file_extension": ".py",
   "mimetype": "text/x-python",
   "name": "python",
   "nbconvert_exporter": "python",
   "pygments_lexer": "ipython3",
   "version": "3.10.12"
  },
  "papermill": {
   "default_parameters": {},
   "duration": 6.298203,
   "end_time": "2023-12-24T15:44:19.616502",
   "environment_variables": {},
   "exception": null,
   "input_path": "__notebook__.ipynb",
   "output_path": "__notebook__.ipynb",
   "parameters": {},
   "start_time": "2023-12-24T15:44:13.318299",
   "version": "2.4.0"
  }
 },
 "nbformat": 4,
 "nbformat_minor": 5
}
